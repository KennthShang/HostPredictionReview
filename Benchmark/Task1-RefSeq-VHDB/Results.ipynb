{
 "cells": [
  {
   "cell_type": "code",
   "execution_count": 1,
   "id": "ffba29dc",
   "metadata": {},
   "outputs": [],
   "source": [
    "from ete3 import NCBITaxa\n",
    "import pandas as pd"
   ]
  },
  {
   "cell_type": "code",
   "execution_count": 2,
   "id": "e7c18d0f",
   "metadata": {},
   "outputs": [],
   "source": [
    "# Initialize NCBITaxa object (only needs to be initialized once)\n",
    "ncbi = NCBITaxa()\n",
    "\n",
    "def get_genus_and_family(species_name):\n",
    "    \"\"\"\n",
    "    Get the genus and family names for a given species using NCBI taxonomy.\n",
    "    \n",
    "    Args:\n",
    "        species_name (str): The name of the species (e.g., \"Salmonella enterica\").\n",
    "    \n",
    "    Returns:\n",
    "        tuple: A tuple containing the genus and family names (genus, family).\n",
    "               If the species is not found, it returns (None, None).\n",
    "    \"\"\"\n",
    "    try:\n",
    "        # Get the taxid for the species\n",
    "        taxid = ncbi.get_name_translator([species_name])\n",
    "        \n",
    "        if not taxid:\n",
    "            #print(f\"Species '{species_name}' not found in NCBI taxonomy database.\")\n",
    "            return None, None\n",
    "        \n",
    "        species_taxid = list(taxid.values())[0][0]  # Get the first TaxID\n",
    "        \n",
    "        # Get the lineage for the taxid\n",
    "        lineage = ncbi.get_lineage(species_taxid)\n",
    "        \n",
    "        # Get the taxonomic ranks and names for the lineage\n",
    "        lineage_ranks = ncbi.get_rank(lineage)\n",
    "        lineage_names = ncbi.get_taxid_translator(lineage)\n",
    "        \n",
    "        # Extract genus and family\n",
    "        genus = None\n",
    "        family = None\n",
    "        for taxid in lineage:\n",
    "            if lineage_ranks[taxid] == \"genus\":\n",
    "                genus = lineage_names[taxid]\n",
    "            if lineage_ranks[taxid] == \"family\":\n",
    "                family = lineage_names[taxid]\n",
    "        \n",
    "        return genus, family\n",
    "    \n",
    "    except Exception as e:\n",
    "        #print(f\"An error occurred: {e}\")\n",
    "        return None, None"
   ]
  },
  {
   "cell_type": "code",
   "execution_count": null,
   "id": "43c99681",
   "metadata": {},
   "outputs": [],
   "source": []
  },
  {
   "cell_type": "code",
   "execution_count": 4,
   "id": "211a023d",
   "metadata": {},
   "outputs": [
    {
     "data": {
      "text/html": [
       "<div>\n",
       "<style scoped>\n",
       "    .dataframe tbody tr th:only-of-type {\n",
       "        vertical-align: middle;\n",
       "    }\n",
       "\n",
       "    .dataframe tbody tr th {\n",
       "        vertical-align: top;\n",
       "    }\n",
       "\n",
       "    .dataframe thead th {\n",
       "        text-align: right;\n",
       "    }\n",
       "</style>\n",
       "<table border=\"1\" class=\"dataframe\">\n",
       "  <thead>\n",
       "    <tr style=\"text-align: right;\">\n",
       "      <th></th>\n",
       "      <th>Accession</th>\n",
       "      <th>Host</th>\n",
       "    </tr>\n",
       "  </thead>\n",
       "  <tbody>\n",
       "    <tr>\n",
       "      <th>0</th>\n",
       "      <td>NC_092682.1</td>\n",
       "      <td>Salmonella enterica</td>\n",
       "    </tr>\n",
       "    <tr>\n",
       "      <th>1</th>\n",
       "      <td>NC_092683.1</td>\n",
       "      <td>Salmonella enterica</td>\n",
       "    </tr>\n",
       "    <tr>\n",
       "      <th>2</th>\n",
       "      <td>NC_092455.1</td>\n",
       "      <td>Klebsiella michiganensis</td>\n",
       "    </tr>\n",
       "    <tr>\n",
       "      <th>3</th>\n",
       "      <td>NC_092456.1</td>\n",
       "      <td>Klebsiella quasipneumoniae</td>\n",
       "    </tr>\n",
       "    <tr>\n",
       "      <th>4</th>\n",
       "      <td>NC_092457.1</td>\n",
       "      <td>Klebsiella variicola</td>\n",
       "    </tr>\n",
       "  </tbody>\n",
       "</table>\n",
       "</div>"
      ],
      "text/plain": [
       "     Accession                        Host\n",
       "0  NC_092682.1         Salmonella enterica\n",
       "1  NC_092683.1         Salmonella enterica\n",
       "2  NC_092455.1    Klebsiella michiganensis\n",
       "3  NC_092456.1  Klebsiella quasipneumoniae\n",
       "4  NC_092457.1        Klebsiella variicola"
      ]
     },
     "execution_count": 4,
     "metadata": {},
     "output_type": "execute_result"
    }
   ],
   "source": [
    "df = pd.read_csv('ProkaryoticVirus_Species_Level_Host.csv')\n",
    "df.head()"
   ]
  },
  {
   "cell_type": "code",
   "execution_count": 5,
   "id": "ea6c0b42",
   "metadata": {},
   "outputs": [],
   "source": [
    "label = {acc: host for acc, host in zip(df.Accession, df.Host)}"
   ]
  },
  {
   "cell_type": "markdown",
   "id": "d382c07f",
   "metadata": {},
   "source": [
    "# CHERRY results"
   ]
  },
  {
   "cell_type": "code",
   "execution_count": null,
   "id": "2b90bfb8",
   "metadata": {},
   "outputs": [
    {
     "data": {
      "text/html": [
       "<div>\n",
       "<style scoped>\n",
       "    .dataframe tbody tr th:only-of-type {\n",
       "        vertical-align: middle;\n",
       "    }\n",
       "\n",
       "    .dataframe tbody tr th {\n",
       "        vertical-align: top;\n",
       "    }\n",
       "\n",
       "    .dataframe thead th {\n",
       "        text-align: right;\n",
       "    }\n",
       "</style>\n",
       "<table border=\"1\" class=\"dataframe\">\n",
       "  <thead>\n",
       "    <tr style=\"text-align: right;\">\n",
       "      <th></th>\n",
       "      <th>Accession</th>\n",
       "      <th>Length</th>\n",
       "      <th>Host</th>\n",
       "      <th>CHERRYScore</th>\n",
       "      <th>Method</th>\n",
       "      <th>Host_NCBI_lineage</th>\n",
       "      <th>Host_GTDB_lineage</th>\n",
       "    </tr>\n",
       "  </thead>\n",
       "  <tbody>\n",
       "    <tr>\n",
       "      <th>0</th>\n",
       "      <td>NC_092683.1</td>\n",
       "      <td>113461</td>\n",
       "      <td>species:Pectobacterium parmentieri</td>\n",
       "      <td>0.9</td>\n",
       "      <td>CRISPR-based (DB)</td>\n",
       "      <td>d__Bacteria;p__Proteobacteria;c__Gammaproteoba...</td>\n",
       "      <td>d__Bacteria;p__Pseudomonadota;c__Gammaproteoba...</td>\n",
       "    </tr>\n",
       "    <tr>\n",
       "      <th>1</th>\n",
       "      <td>NC_092682.1</td>\n",
       "      <td>111322</td>\n",
       "      <td>-</td>\n",
       "      <td>-</td>\n",
       "      <td>NaN</td>\n",
       "      <td>-</td>\n",
       "      <td>-</td>\n",
       "    </tr>\n",
       "    <tr>\n",
       "      <th>2</th>\n",
       "      <td>NC_092681.1</td>\n",
       "      <td>121769</td>\n",
       "      <td>species:Acinetobacter sp. WCHA45</td>\n",
       "      <td>0.91</td>\n",
       "      <td>CRISPR-based (DB)</td>\n",
       "      <td>d__Bacteria;p__Proteobacteria;c__Gammaproteoba...</td>\n",
       "      <td>d__Bacteria;p__Pseudomonadota;c__Gammaproteoba...</td>\n",
       "    </tr>\n",
       "    <tr>\n",
       "      <th>3</th>\n",
       "      <td>NC_092586.1</td>\n",
       "      <td>37696</td>\n",
       "      <td>-</td>\n",
       "      <td>-</td>\n",
       "      <td>NaN</td>\n",
       "      <td>-</td>\n",
       "      <td>-</td>\n",
       "    </tr>\n",
       "    <tr>\n",
       "      <th>4</th>\n",
       "      <td>NC_092457.1</td>\n",
       "      <td>40735</td>\n",
       "      <td>genus:Klebsiella</td>\n",
       "      <td>0.81</td>\n",
       "      <td>AAI-based</td>\n",
       "      <td>d__Bacteria;p__Proteobacteria;c__Gammaproteoba...</td>\n",
       "      <td>Not found</td>\n",
       "    </tr>\n",
       "  </tbody>\n",
       "</table>\n",
       "</div>"
      ],
      "text/plain": [
       "     Accession  Length                                Host CHERRYScore  \\\n",
       "0  NC_092683.1  113461  species:Pectobacterium parmentieri         0.9   \n",
       "1  NC_092682.1  111322                                   -           -   \n",
       "2  NC_092681.1  121769    species:Acinetobacter sp. WCHA45        0.91   \n",
       "3  NC_092586.1   37696                                   -           -   \n",
       "4  NC_092457.1   40735                    genus:Klebsiella        0.81   \n",
       "\n",
       "              Method                                  Host_NCBI_lineage  \\\n",
       "0  CRISPR-based (DB)  d__Bacteria;p__Proteobacteria;c__Gammaproteoba...   \n",
       "1                NaN                                                  -   \n",
       "2  CRISPR-based (DB)  d__Bacteria;p__Proteobacteria;c__Gammaproteoba...   \n",
       "3                NaN                                                  -   \n",
       "4          AAI-based  d__Bacteria;p__Proteobacteria;c__Gammaproteoba...   \n",
       "\n",
       "                                   Host_GTDB_lineage  \n",
       "0  d__Bacteria;p__Pseudomonadota;c__Gammaproteoba...  \n",
       "1                                                  -  \n",
       "2  d__Bacteria;p__Pseudomonadota;c__Gammaproteoba...  \n",
       "3                                                  -  \n",
       "4                                          Not found  "
      ]
     },
     "execution_count": 6,
     "metadata": {},
     "output_type": "execute_result"
    }
   ],
   "source": [
    "cherry = pd.read_csv('Results/cherry_ncbi_results.tsv', sep='\\t')\n",
    "cherry.head()"
   ]
  },
  {
   "cell_type": "code",
   "execution_count": 7,
   "id": "8511a148",
   "metadata": {},
   "outputs": [],
   "source": [
    "cherry_prediction = {acc: host for acc, host in zip(cherry.Accession, cherry.Host)}\n",
    "cherry_prediction_species = {}\n",
    "cherry_prediction_genus = {}\n",
    "for acc, host in cherry_prediction.items():\n",
    "    if 'species:' in host:\n",
    "        cherry_prediction_species[acc] = host.split('species:')[-1]\n",
    "    if 'genus:' in host:\n",
    "        cherry_prediction_genus[acc] = host.split('genus:')[-1]"
   ]
  },
  {
   "cell_type": "code",
   "execution_count": 14,
   "id": "23bf8136",
   "metadata": {},
   "outputs": [
    {
     "name": "stdout",
     "output_type": "stream",
     "text": [
      "Species-level accuracy: 0.7724391057724391\n",
      "Species-level prediction rate: 0.6379310344827587\n"
     ]
    }
   ],
   "source": [
    "total = 0\n",
    "correct = 0\n",
    "for acc in label:\n",
    "    try:\n",
    "        pred = cherry_prediction[acc]\n",
    "        if 'species' not in pred:\n",
    "            continue\n",
    "        elif cherry_prediction_species[acc] == label[acc]:\n",
    "            correct += 1\n",
    "            total += 1\n",
    "        else:\n",
    "            total += 1\n",
    "    except:\n",
    "        pass\n",
    "print(\"Species-level accuracy:\", correct / total)\n",
    "print(\"Species-level prediction rate:\", total / len(label))"
   ]
  },
  {
   "cell_type": "code",
   "execution_count": 16,
   "id": "09df72ff",
   "metadata": {},
   "outputs": [
    {
     "name": "stdout",
     "output_type": "stream",
     "text": [
      "Genus-level accuracy: 0.8065134099616859\n",
      "Genus-level prediction rate: 1.0\n"
     ]
    }
   ],
   "source": [
    "total = 0\n",
    "correct = 0\n",
    "for acc in label:\n",
    "    try:\n",
    "        genus, family = get_genus_and_family(label[acc])\n",
    "        if acc in cherry_prediction_species:\n",
    "            pred_g, pred_f = get_genus_and_family(cherry_prediction_species[acc])\n",
    "            if pred_g == genus:\n",
    "                correct += 1\n",
    "            total+=1\n",
    "        elif acc in cherry_prediction_genus:\n",
    "            if cherry_prediction_genus[acc] == genus:\n",
    "                correct += 1\n",
    "            total+=1\n",
    "        else:\n",
    "            total+=1\n",
    "    except:\n",
    "        pass\n",
    "\n",
    "print(\"Genus-level accuracy:\", correct / total)\n",
    "print(\"Genus-level prediction rate:\", total / len(label))"
   ]
  },
  {
   "cell_type": "code",
   "execution_count": 17,
   "id": "4c77acde",
   "metadata": {},
   "outputs": [
    {
     "name": "stdout",
     "output_type": "stream",
     "text": [
      "Family-level accuracy: 0.8716475095785441\n",
      "Family-level prediction rate: 1.0\n"
     ]
    }
   ],
   "source": [
    "total = 0\n",
    "correct = 0\n",
    "for acc in label:\n",
    "    try:\n",
    "        genus, family = get_genus_and_family(label[acc])\n",
    "        if acc in cherry_prediction_species:\n",
    "            pred_g, pred_f = get_genus_and_family(cherry_prediction_species[acc])\n",
    "            if pred_f == family:\n",
    "                correct += 1\n",
    "            total+=1\n",
    "        elif acc in cherry_prediction_genus:\n",
    "            pred_g, pred_f = get_genus_and_family(cherry_prediction_genus[acc])\n",
    "            if pred_f == family:\n",
    "                correct += 1\n",
    "            total+=1\n",
    "        else:\n",
    "            total+=1\n",
    "    except:\n",
    "        pass\n",
    "print(\"Family-level accuracy:\", correct / total)\n",
    "print(\"Family-level prediction rate:\", total / len(label))"
   ]
  },
  {
   "cell_type": "markdown",
   "id": "dc9e5e73",
   "metadata": {},
   "source": [
    "# iPHoP results"
   ]
  },
  {
   "cell_type": "code",
   "execution_count": 18,
   "id": "43493ca8",
   "metadata": {},
   "outputs": [
    {
     "data": {
      "text/html": [
       "<div>\n",
       "<style scoped>\n",
       "    .dataframe tbody tr th:only-of-type {\n",
       "        vertical-align: middle;\n",
       "    }\n",
       "\n",
       "    .dataframe tbody tr th {\n",
       "        vertical-align: top;\n",
       "    }\n",
       "\n",
       "    .dataframe thead th {\n",
       "        text-align: right;\n",
       "    }\n",
       "</style>\n",
       "<table border=\"1\" class=\"dataframe\">\n",
       "  <thead>\n",
       "    <tr style=\"text-align: right;\">\n",
       "      <th></th>\n",
       "      <th>Virus</th>\n",
       "      <th>Host genome</th>\n",
       "      <th>Host taxonomy</th>\n",
       "      <th>Main method</th>\n",
       "      <th>Confidence score</th>\n",
       "      <th>Additional methods</th>\n",
       "      <th>Host</th>\n",
       "    </tr>\n",
       "  </thead>\n",
       "  <tbody>\n",
       "    <tr>\n",
       "      <th>0</th>\n",
       "      <td>NC_048101.1</td>\n",
       "      <td>RS_GCF_900323545.1</td>\n",
       "      <td>d__Bacteria;p__Actinomycetota;c__Actinomycetia...</td>\n",
       "      <td>CRISPR</td>\n",
       "      <td>95.6</td>\n",
       "      <td>NaN</td>\n",
       "      <td>Actinomyces sp900323545</td>\n",
       "    </tr>\n",
       "    <tr>\n",
       "      <th>1</th>\n",
       "      <td>NC_048104.1</td>\n",
       "      <td>RS_GCF_000425025.1</td>\n",
       "      <td>d__Bacteria;p__Bacillota;c__Bacilli;o__Lactoba...</td>\n",
       "      <td>iPHoP-RF</td>\n",
       "      <td>93.7</td>\n",
       "      <td>NaN</td>\n",
       "      <td>Streptococcus castoreus</td>\n",
       "    </tr>\n",
       "    <tr>\n",
       "      <th>2</th>\n",
       "      <td>NC_048107.1</td>\n",
       "      <td>RS_GCF_002902085.1</td>\n",
       "      <td>d__Bacteria;p__Bacillota;c__Bacilli;o__Staphyl...</td>\n",
       "      <td>iPHoP-RF</td>\n",
       "      <td>96.7</td>\n",
       "      <td>NaN</td>\n",
       "      <td>Staphylococcus simiae</td>\n",
       "    </tr>\n",
       "    <tr>\n",
       "      <th>3</th>\n",
       "      <td>NC_048109.1</td>\n",
       "      <td>RS_GCF_000017205.1</td>\n",
       "      <td>d__Bacteria;p__Pseudomonadota;c__Gammaproteoba...</td>\n",
       "      <td>blast</td>\n",
       "      <td>96.9</td>\n",
       "      <td>iPHoP-RF;82.20</td>\n",
       "      <td>Pseudomonas aeruginosa_A</td>\n",
       "    </tr>\n",
       "    <tr>\n",
       "      <th>4</th>\n",
       "      <td>NC_048110.1</td>\n",
       "      <td>GB_GCA_009929605.1</td>\n",
       "      <td>d__Bacteria;p__Bacillota_C;c__Negativicutes;o_...</td>\n",
       "      <td>blast</td>\n",
       "      <td>93.4</td>\n",
       "      <td>NaN</td>\n",
       "      <td>Veillonella sp009929605</td>\n",
       "    </tr>\n",
       "  </tbody>\n",
       "</table>\n",
       "</div>"
      ],
      "text/plain": [
       "         Virus         Host genome  \\\n",
       "0  NC_048101.1  RS_GCF_900323545.1   \n",
       "1  NC_048104.1  RS_GCF_000425025.1   \n",
       "2  NC_048107.1  RS_GCF_002902085.1   \n",
       "3  NC_048109.1  RS_GCF_000017205.1   \n",
       "4  NC_048110.1  GB_GCA_009929605.1   \n",
       "\n",
       "                                       Host taxonomy Main method  \\\n",
       "0  d__Bacteria;p__Actinomycetota;c__Actinomycetia...      CRISPR   \n",
       "1  d__Bacteria;p__Bacillota;c__Bacilli;o__Lactoba...    iPHoP-RF   \n",
       "2  d__Bacteria;p__Bacillota;c__Bacilli;o__Staphyl...    iPHoP-RF   \n",
       "3  d__Bacteria;p__Pseudomonadota;c__Gammaproteoba...       blast   \n",
       "4  d__Bacteria;p__Bacillota_C;c__Negativicutes;o_...       blast   \n",
       "\n",
       "   Confidence score Additional methods                      Host  \n",
       "0              95.6                NaN   Actinomyces sp900323545  \n",
       "1              93.7                NaN   Streptococcus castoreus  \n",
       "2              96.7                NaN     Staphylococcus simiae  \n",
       "3              96.9     iPHoP-RF;82.20  Pseudomonas aeruginosa_A  \n",
       "4              93.4                NaN   Veillonella sp009929605  "
      ]
     },
     "execution_count": 18,
     "metadata": {},
     "output_type": "execute_result"
    }
   ],
   "source": [
    "iphop = pd.read_csv('Results/iphop_ncbi_results.csv')\n",
    "iphop['Host'] = iphop['Host taxonomy'].apply(lambda x: x.split(';s__')[1].split(';')[0])\n",
    "iphop.head()"
   ]
  },
  {
   "cell_type": "code",
   "execution_count": 22,
   "id": "c0cc5960",
   "metadata": {},
   "outputs": [],
   "source": [
    "iphop_prediction = {acc: host for acc, host in zip(iphop.Virus, iphop.Host)}"
   ]
  },
  {
   "cell_type": "code",
   "execution_count": 23,
   "id": "a3560e94",
   "metadata": {},
   "outputs": [
    {
     "name": "stdout",
     "output_type": "stream",
     "text": [
      "Species-level accuracy: 0.16418992388546574\n",
      "Species-level prediction rate: 0.5872711792252022\n"
     ]
    }
   ],
   "source": [
    "total = 0\n",
    "correct = 0\n",
    "for acc in label:\n",
    "    try:\n",
    "        pred = iphop_prediction[acc]\n",
    "        if pred == '':\n",
    "            continue\n",
    "        elif pred == label[acc]:\n",
    "            correct += 1\n",
    "            total += 1\n",
    "        else:\n",
    "            total += 1\n",
    "    except:\n",
    "        pass\n",
    "print(\"Species-level accuracy:\", correct / total)\n",
    "print(\"Species-level prediction rate:\", total / len(label))"
   ]
  },
  {
   "cell_type": "code",
   "execution_count": null,
   "id": "ba585f29",
   "metadata": {},
   "outputs": [
    {
     "name": "stdout",
     "output_type": "stream",
     "text": [
      "Genus-level accuracy: 0.47843421529539687\n",
      "Genus-level prediction rate: 0.5872711792252022\n"
     ]
    }
   ],
   "source": [
    "total = 0\n",
    "correct = 0\n",
    "for acc in label:\n",
    "    try:\n",
    "        pred = iphop_prediction[acc]\n",
    "        if pred == '':\n",
    "            continue\n",
    "        genus, family = get_genus_and_family(label[acc])\n",
    "        pred_g, pred_f = get_genus_and_family(pred)\n",
    "        if genus == pred_g:\n",
    "            correct += 1\n",
    "            total += 1\n",
    "        else:\n",
    "            total += 1\n",
    "    except:\n",
    "        pass\n",
    "print(\"Genus-level accuracy:\", correct / total)\n",
    "print(\"Genus-level prediction rate:\", total / len(label))\n"
   ]
  },
  {
   "cell_type": "code",
   "execution_count": 28,
   "id": "7b6d259e",
   "metadata": {},
   "outputs": [
    {
     "name": "stdout",
     "output_type": "stream",
     "text": [
      "Family-level accuracy: 0.5748459586806814\n",
      "Family-level prediction rate: 0.5872711792252022\n"
     ]
    }
   ],
   "source": [
    "total = 0\n",
    "correct = 0\n",
    "for acc in label:\n",
    "    try:\n",
    "        pred = iphop_prediction[acc]\n",
    "        if pred == '':\n",
    "            continue\n",
    "        genus, family = get_genus_and_family(label[acc])\n",
    "        pred_g, pred_f = get_genus_and_family(pred)\n",
    "        if pred_f == None:\n",
    "            total += 1\n",
    "        elif pred_f == family:\n",
    "            correct += 1\n",
    "            total += 1\n",
    "        else:\n",
    "            total += 1\n",
    "    except:\n",
    "        pass\n",
    "print(\"Family-level accuracy:\", correct / total)\n",
    "print(\"Family-level prediction rate:\", total / len(label))"
   ]
  },
  {
   "cell_type": "markdown",
   "id": "f6ba1e57",
   "metadata": {},
   "source": [
    "# PHERI results"
   ]
  },
  {
   "cell_type": "code",
   "execution_count": 29,
   "id": "4389d3f5",
   "metadata": {},
   "outputs": [
    {
     "data": {
      "text/html": [
       "<div>\n",
       "<style scoped>\n",
       "    .dataframe tbody tr th:only-of-type {\n",
       "        vertical-align: middle;\n",
       "    }\n",
       "\n",
       "    .dataframe tbody tr th {\n",
       "        vertical-align: top;\n",
       "    }\n",
       "\n",
       "    .dataframe thead th {\n",
       "        text-align: right;\n",
       "    }\n",
       "</style>\n",
       "<table border=\"1\" class=\"dataframe\">\n",
       "  <thead>\n",
       "    <tr style=\"text-align: right;\">\n",
       "      <th></th>\n",
       "      <th>phage</th>\n",
       "      <th>host</th>\n",
       "      <th>score</th>\n",
       "    </tr>\n",
       "  </thead>\n",
       "  <tbody>\n",
       "    <tr>\n",
       "      <th>0</th>\n",
       "      <td>NC_021774.1</td>\n",
       "      <td></td>\n",
       "      <td></td>\n",
       "    </tr>\n",
       "    <tr>\n",
       "      <th>1</th>\n",
       "      <td>NC_028860</td>\n",
       "      <td>Mycolicibacterium</td>\n",
       "      <td>1.0</td>\n",
       "    </tr>\n",
       "    <tr>\n",
       "      <th>2</th>\n",
       "      <td>NC_047794</td>\n",
       "      <td>Streptomyces</td>\n",
       "      <td>1.0</td>\n",
       "    </tr>\n",
       "    <tr>\n",
       "      <th>3</th>\n",
       "      <td>NC_073092</td>\n",
       "      <td>Pseudomonas</td>\n",
       "      <td>1.0</td>\n",
       "    </tr>\n",
       "    <tr>\n",
       "      <th>4</th>\n",
       "      <td>NC_055816</td>\n",
       "      <td>Gordonia</td>\n",
       "      <td>1.0</td>\n",
       "    </tr>\n",
       "  </tbody>\n",
       "</table>\n",
       "</div>"
      ],
      "text/plain": [
       "         phage               host score\n",
       "0  NC_021774.1                         \n",
       "1    NC_028860  Mycolicibacterium   1.0\n",
       "2    NC_047794       Streptomyces   1.0\n",
       "3    NC_073092        Pseudomonas   1.0\n",
       "4    NC_055816           Gordonia   1.0"
      ]
     },
     "execution_count": 29,
     "metadata": {},
     "output_type": "execute_result"
    }
   ],
   "source": [
    "pheri = pd.read_csv('Results/pheri_ncbi_results.csv')\n",
    "pheri = pheri.fillna('')\n",
    "pheri.head()"
   ]
  },
  {
   "cell_type": "code",
   "execution_count": 30,
   "id": "e6812f19",
   "metadata": {},
   "outputs": [],
   "source": [
    "pheri_prediction = {acc: host for acc, host in zip(pheri.phage, pheri.host)}"
   ]
  },
  {
   "cell_type": "code",
   "execution_count": 31,
   "id": "b1b8dd7a",
   "metadata": {},
   "outputs": [
    {
     "name": "stdout",
     "output_type": "stream",
     "text": [
      "Genus-level accuracy: 0.814430314041007\n",
      "Genus-level prediction rate: 0.8201362281822052\n"
     ]
    }
   ],
   "source": [
    "total = 0\n",
    "correct = 0\n",
    "for acc in label:\n",
    "    try:\n",
    "        pred = pheri_prediction[acc.split('.')[0]]\n",
    "        genus, family = get_genus_and_family(label[acc])\n",
    "        #if str(pred) == str(\"nan\"):\n",
    "        #    continue\n",
    "        pred_g, pred_f = get_genus_and_family(pred)\n",
    "        if pred_g == genus:\n",
    "            correct += 1\n",
    "            total += 1\n",
    "        else:\n",
    "            total += 1\n",
    "    except:\n",
    "        pass\n",
    "print(\"Genus-level accuracy:\", correct / total)\n",
    "print(\"Genus-level prediction rate:\", total / len(label))\n"
   ]
  },
  {
   "cell_type": "code",
   "execution_count": 32,
   "id": "aef97567-4509-4f2e-93ef-04a5ce207116",
   "metadata": {},
   "outputs": [
    {
     "name": "stdout",
     "output_type": "stream",
     "text": [
      "Family-level accuracy: 0.8647806903711394\n",
      "Family-level prediction rate: 0.8201362281822052\n"
     ]
    }
   ],
   "source": [
    "total = 0\n",
    "correct = 0\n",
    "for acc in label:\n",
    "    try:\n",
    "        pred = pheri_prediction[acc.split('.')[0]]\n",
    "        genus, family = get_genus_and_family(label[acc])\n",
    "        pred_g, pred_f = get_genus_and_family(pred)\n",
    "        if pred_f == family:\n",
    "            correct += 1\n",
    "            total += 1\n",
    "        else:\n",
    "            total += 1\n",
    "    except:\n",
    "        pass\n",
    "print(\"Family-level accuracy:\", correct / total)\n",
    "print(\"Family-level prediction rate:\", total / len(label))"
   ]
  },
  {
   "cell_type": "markdown",
   "id": "ab6aa600",
   "metadata": {},
   "source": [
    "# VHM_net results"
   ]
  },
  {
   "cell_type": "code",
   "execution_count": 35,
   "id": "bc5418e8",
   "metadata": {},
   "outputs": [
    {
     "data": {
      "text/html": [
       "<div>\n",
       "<style scoped>\n",
       "    .dataframe tbody tr th:only-of-type {\n",
       "        vertical-align: middle;\n",
       "    }\n",
       "\n",
       "    .dataframe tbody tr th {\n",
       "        vertical-align: top;\n",
       "    }\n",
       "\n",
       "    .dataframe thead th {\n",
       "        text-align: right;\n",
       "    }\n",
       "</style>\n",
       "<table border=\"1\" class=\"dataframe\">\n",
       "  <thead>\n",
       "    <tr style=\"text-align: right;\">\n",
       "      <th></th>\n",
       "      <th>hostNCBIName</th>\n",
       "      <th>hostSuperkingdom</th>\n",
       "      <th>hostPhylum</th>\n",
       "      <th>hostClass</th>\n",
       "      <th>hostOrder</th>\n",
       "      <th>hostFamily</th>\n",
       "      <th>hostGenus</th>\n",
       "      <th>hostSpecies</th>\n",
       "      <th>hostName</th>\n",
       "      <th>score</th>\n",
       "      <th>...</th>\n",
       "      <th>s2star_pct</th>\n",
       "      <th>posSV_pct</th>\n",
       "      <th>negSV_pct</th>\n",
       "      <th>crispr_pct</th>\n",
       "      <th>acc_phylum</th>\n",
       "      <th>acc_class</th>\n",
       "      <th>acc_order</th>\n",
       "      <th>acc_family</th>\n",
       "      <th>acc_genus</th>\n",
       "      <th>Accession</th>\n",
       "    </tr>\n",
       "  </thead>\n",
       "  <tbody>\n",
       "    <tr>\n",
       "      <th>0</th>\n",
       "      <td>GCF_000010465.1</td>\n",
       "      <td>Bacteria</td>\n",
       "      <td>Firmicutes</td>\n",
       "      <td>Bacilli</td>\n",
       "      <td>Bacillales</td>\n",
       "      <td>Staphylococcaceae</td>\n",
       "      <td>Staphylococcus</td>\n",
       "      <td>Staphylococcus aureus</td>\n",
       "      <td>Staphylococcus aureus subsp. aureus str. Newman</td>\n",
       "      <td>0.9991</td>\n",
       "      <td>...</td>\n",
       "      <td>0.9999</td>\n",
       "      <td>1.0000</td>\n",
       "      <td>0.9998</td>\n",
       "      <td>NaN</td>\n",
       "      <td>0.9956</td>\n",
       "      <td>0.9956</td>\n",
       "      <td>0.9956</td>\n",
       "      <td>0.9823</td>\n",
       "      <td>0.9646</td>\n",
       "      <td>NC_024391.1</td>\n",
       "    </tr>\n",
       "    <tr>\n",
       "      <th>1</th>\n",
       "      <td>GCF_000267765.2</td>\n",
       "      <td>Bacteria</td>\n",
       "      <td>Proteobacteria</td>\n",
       "      <td>Gammaproteobacteria</td>\n",
       "      <td>Enterobacterales</td>\n",
       "      <td>Enterobacteriaceae</td>\n",
       "      <td>Escherichia</td>\n",
       "      <td>Escherichia coli</td>\n",
       "      <td>Escherichia coli PA28</td>\n",
       "      <td>0.9586</td>\n",
       "      <td>...</td>\n",
       "      <td>0.9968</td>\n",
       "      <td>0.9999</td>\n",
       "      <td>0.9996</td>\n",
       "      <td>NaN</td>\n",
       "      <td>0.9735</td>\n",
       "      <td>0.9735</td>\n",
       "      <td>0.9430</td>\n",
       "      <td>0.9084</td>\n",
       "      <td>0.8473</td>\n",
       "      <td>NC_027351.1</td>\n",
       "    </tr>\n",
       "    <tr>\n",
       "      <th>2</th>\n",
       "      <td>GCF_001281005.1</td>\n",
       "      <td>Bacteria</td>\n",
       "      <td>Proteobacteria</td>\n",
       "      <td>Gammaproteobacteria</td>\n",
       "      <td>Enterobacterales</td>\n",
       "      <td>Enterobacteriaceae</td>\n",
       "      <td>Citrobacter</td>\n",
       "      <td>Citrobacter portucalensis</td>\n",
       "      <td>Citrobacter portucalensis</td>\n",
       "      <td>0.9654</td>\n",
       "      <td>...</td>\n",
       "      <td>0.9619</td>\n",
       "      <td>1.0000</td>\n",
       "      <td>0.9999</td>\n",
       "      <td>NaN</td>\n",
       "      <td>0.9731</td>\n",
       "      <td>0.9731</td>\n",
       "      <td>0.9441</td>\n",
       "      <td>0.9089</td>\n",
       "      <td>0.8468</td>\n",
       "      <td>NC_031092.1</td>\n",
       "    </tr>\n",
       "    <tr>\n",
       "      <th>3</th>\n",
       "      <td>GCF_000709475.1</td>\n",
       "      <td>Bacteria</td>\n",
       "      <td>Firmicutes</td>\n",
       "      <td>Bacilli</td>\n",
       "      <td>Bacillales</td>\n",
       "      <td>Staphylococcaceae</td>\n",
       "      <td>Staphylococcus</td>\n",
       "      <td>Staphylococcus aureus</td>\n",
       "      <td>Staphylococcus aureus</td>\n",
       "      <td>0.9159</td>\n",
       "      <td>...</td>\n",
       "      <td>0.9734</td>\n",
       "      <td>1.0000</td>\n",
       "      <td>0.9996</td>\n",
       "      <td>NaN</td>\n",
       "      <td>0.9671</td>\n",
       "      <td>0.9671</td>\n",
       "      <td>0.9362</td>\n",
       "      <td>0.8956</td>\n",
       "      <td>0.8162</td>\n",
       "      <td>NC_022764.1</td>\n",
       "    </tr>\n",
       "    <tr>\n",
       "      <th>4</th>\n",
       "      <td>GCF_001469215.1</td>\n",
       "      <td>Bacteria</td>\n",
       "      <td>Proteobacteria</td>\n",
       "      <td>Gammaproteobacteria</td>\n",
       "      <td>Alteromonadales</td>\n",
       "      <td>Pseudoalteromonadaceae</td>\n",
       "      <td>Pseudoalteromonas</td>\n",
       "      <td>Pseudoalteromonas sp. H105</td>\n",
       "      <td>Pseudoalteromonas sp. H105</td>\n",
       "      <td>0.9957</td>\n",
       "      <td>...</td>\n",
       "      <td>0.9964</td>\n",
       "      <td>1.0000</td>\n",
       "      <td>0.9999</td>\n",
       "      <td>NaN</td>\n",
       "      <td>0.9854</td>\n",
       "      <td>0.9854</td>\n",
       "      <td>0.9592</td>\n",
       "      <td>0.9388</td>\n",
       "      <td>0.8950</td>\n",
       "      <td>NC_070826.1</td>\n",
       "    </tr>\n",
       "  </tbody>\n",
       "</table>\n",
       "<p>5 rows × 24 columns</p>\n",
       "</div>"
      ],
      "text/plain": [
       "      hostNCBIName hostSuperkingdom      hostPhylum            hostClass  \\\n",
       "0  GCF_000010465.1         Bacteria      Firmicutes              Bacilli   \n",
       "1  GCF_000267765.2         Bacteria  Proteobacteria  Gammaproteobacteria   \n",
       "2  GCF_001281005.1         Bacteria  Proteobacteria  Gammaproteobacteria   \n",
       "3  GCF_000709475.1         Bacteria      Firmicutes              Bacilli   \n",
       "4  GCF_001469215.1         Bacteria  Proteobacteria  Gammaproteobacteria   \n",
       "\n",
       "          hostOrder              hostFamily          hostGenus  \\\n",
       "0        Bacillales       Staphylococcaceae     Staphylococcus   \n",
       "1  Enterobacterales      Enterobacteriaceae        Escherichia   \n",
       "2  Enterobacterales      Enterobacteriaceae        Citrobacter   \n",
       "3        Bacillales       Staphylococcaceae     Staphylococcus   \n",
       "4   Alteromonadales  Pseudoalteromonadaceae  Pseudoalteromonas   \n",
       "\n",
       "                  hostSpecies  \\\n",
       "0       Staphylococcus aureus   \n",
       "1            Escherichia coli   \n",
       "2   Citrobacter portucalensis   \n",
       "3       Staphylococcus aureus   \n",
       "4  Pseudoalteromonas sp. H105   \n",
       "\n",
       "                                          hostName   score  ...  s2star_pct  \\\n",
       "0  Staphylococcus aureus subsp. aureus str. Newman  0.9991  ...      0.9999   \n",
       "1                            Escherichia coli PA28  0.9586  ...      0.9968   \n",
       "2                        Citrobacter portucalensis  0.9654  ...      0.9619   \n",
       "3                            Staphylococcus aureus  0.9159  ...      0.9734   \n",
       "4                       Pseudoalteromonas sp. H105  0.9957  ...      0.9964   \n",
       "\n",
       "   posSV_pct  negSV_pct  crispr_pct  acc_phylum  acc_class  acc_order  \\\n",
       "0     1.0000     0.9998         NaN      0.9956     0.9956     0.9956   \n",
       "1     0.9999     0.9996         NaN      0.9735     0.9735     0.9430   \n",
       "2     1.0000     0.9999         NaN      0.9731     0.9731     0.9441   \n",
       "3     1.0000     0.9996         NaN      0.9671     0.9671     0.9362   \n",
       "4     1.0000     0.9999         NaN      0.9854     0.9854     0.9592   \n",
       "\n",
       "   acc_family  acc_genus    Accession  \n",
       "0      0.9823     0.9646  NC_024391.1  \n",
       "1      0.9084     0.8473  NC_027351.1  \n",
       "2      0.9089     0.8468  NC_031092.1  \n",
       "3      0.8956     0.8162  NC_022764.1  \n",
       "4      0.9388     0.8950  NC_070826.1  \n",
       "\n",
       "[5 rows x 24 columns]"
      ]
     },
     "execution_count": 35,
     "metadata": {},
     "output_type": "execute_result"
    }
   ],
   "source": [
    "vhmnet = pd.read_csv('Results/vhmnet_ncbi_results.csv')\n",
    "vhmnet_prediction = {acc: host for acc, host in zip(vhmnet.Accession, vhmnet.hostSpecies)}\n",
    "vhmnet.head()"
   ]
  },
  {
   "cell_type": "code",
   "execution_count": 38,
   "id": "6c500d83",
   "metadata": {},
   "outputs": [
    {
     "name": "stdout",
     "output_type": "stream",
     "text": [
      "Species-level accuracy: 0.3673903788846318\n",
      "Species-level prediction rate: 1.0\n"
     ]
    }
   ],
   "source": [
    "total = 0\n",
    "correct = 0\n",
    "for acc in label:\n",
    "    try:\n",
    "        pred = vhmnet_prediction[acc]\n",
    "        if pred == label[acc]:\n",
    "            correct += 1\n",
    "            total += 1\n",
    "        else:\n",
    "            total += 1\n",
    "    except:\n",
    "        pass\n",
    "print(\"Species-level accuracy:\", correct / total)\n",
    "print(\"Species-level prediction rate:\", total / len(label))"
   ]
  },
  {
   "cell_type": "code",
   "execution_count": 39,
   "id": "9316e826",
   "metadata": {},
   "outputs": [
    {
     "name": "stdout",
     "output_type": "stream",
     "text": [
      "Genus-level accuracy: 0.4821200510855683\n",
      "Genus-level prediction rate: 1.0\n"
     ]
    }
   ],
   "source": [
    "total = 0\n",
    "correct = 0\n",
    "for acc in label:\n",
    "    try:\n",
    "        genus, family = get_genus_and_family(label[acc])\n",
    "        pred = vhmnet_prediction[acc]\n",
    "        pred_g, pred_f = get_genus_and_family(pred)\n",
    "        if pred_g == genus:\n",
    "            correct += 1\n",
    "            total += 1\n",
    "        else:\n",
    "            total += 1\n",
    "    except:\n",
    "        pass\n",
    "print(\"Genus-level accuracy:\", correct / total)\n",
    "print(\"Genus-level prediction rate:\", total / len(label))"
   ]
  },
  {
   "cell_type": "code",
   "execution_count": 40,
   "id": "e843bae9",
   "metadata": {},
   "outputs": [
    {
     "name": "stdout",
     "output_type": "stream",
     "text": [
      "Family-level accuracy: 0.6055768412090251\n",
      "Family-level prediction rate: 1.0\n"
     ]
    }
   ],
   "source": [
    "total = 0\n",
    "correct = 0\n",
    "for acc in label:\n",
    "    try:\n",
    "        genus, family = get_genus_and_family(label[acc])\n",
    "        pred = vhmnet_prediction[acc]\n",
    "        pred_g, pred_f = get_genus_and_family(pred)\n",
    "        if family == pred_f:\n",
    "            correct += 1\n",
    "            total += 1\n",
    "        else:\n",
    "            total += 1\n",
    "    except:\n",
    "        pass\n",
    "print(\"Family-level accuracy:\", correct / total)\n",
    "print(\"Family-level prediction rate:\", total / len(label))"
   ]
  },
  {
   "cell_type": "markdown",
   "id": "897658d5",
   "metadata": {},
   "source": [
    "# vHULK results"
   ]
  },
  {
   "cell_type": "code",
   "execution_count": 42,
   "id": "c1e60dca",
   "metadata": {},
   "outputs": [
    {
     "data": {
      "text/html": [
       "<div>\n",
       "<style scoped>\n",
       "    .dataframe tbody tr th:only-of-type {\n",
       "        vertical-align: middle;\n",
       "    }\n",
       "\n",
       "    .dataframe tbody tr th {\n",
       "        vertical-align: top;\n",
       "    }\n",
       "\n",
       "    .dataframe thead th {\n",
       "        text-align: right;\n",
       "    }\n",
       "</style>\n",
       "<table border=\"1\" class=\"dataframe\">\n",
       "  <thead>\n",
       "    <tr style=\"text-align: right;\">\n",
       "      <th></th>\n",
       "      <th>pred_genus</th>\n",
       "      <th>score_genus</th>\n",
       "      <th>entropy_genus</th>\n",
       "      <th>pred_species</th>\n",
       "      <th>score_species</th>\n",
       "      <th>entropy_species</th>\n",
       "      <th>Accession</th>\n",
       "    </tr>\n",
       "  </thead>\n",
       "  <tbody>\n",
       "    <tr>\n",
       "      <th>0</th>\n",
       "      <td>Salmonella</td>\n",
       "      <td>0.989508</td>\n",
       "      <td>0.199786</td>\n",
       "      <td>Salmonella_enterica</td>\n",
       "      <td>0.999750</td>\n",
       "      <td>1.682540</td>\n",
       "      <td>NC_048785.1.csv</td>\n",
       "    </tr>\n",
       "    <tr>\n",
       "      <th>1</th>\n",
       "      <td>Mycobacterium</td>\n",
       "      <td>0.999820</td>\n",
       "      <td>0.005806</td>\n",
       "      <td>Mycobacterium_smegmatis</td>\n",
       "      <td>0.999998</td>\n",
       "      <td>5.399976</td>\n",
       "      <td>NC_021061.1.csv</td>\n",
       "    </tr>\n",
       "    <tr>\n",
       "      <th>2</th>\n",
       "      <td>Streptococcus</td>\n",
       "      <td>0.999820</td>\n",
       "      <td>0.005261</td>\n",
       "      <td>Streptococcus_thermophilus</td>\n",
       "      <td>1.000000</td>\n",
       "      <td>5.553392</td>\n",
       "      <td>NC_070700.1.csv</td>\n",
       "    </tr>\n",
       "    <tr>\n",
       "      <th>3</th>\n",
       "      <td>Lactococcus</td>\n",
       "      <td>1.000000</td>\n",
       "      <td>0.000002</td>\n",
       "      <td>Lactococcus_lactis</td>\n",
       "      <td>1.000000</td>\n",
       "      <td>5.924040</td>\n",
       "      <td>NC_049487.1.csv</td>\n",
       "    </tr>\n",
       "    <tr>\n",
       "      <th>4</th>\n",
       "      <td></td>\n",
       "      <td>0.000000</td>\n",
       "      <td>0.000000</td>\n",
       "      <td></td>\n",
       "      <td>0.000000</td>\n",
       "      <td>0.000000</td>\n",
       "      <td>NC_077159.1.csv</td>\n",
       "    </tr>\n",
       "  </tbody>\n",
       "</table>\n",
       "</div>"
      ],
      "text/plain": [
       "      pred_genus  score_genus  entropy_genus                pred_species  \\\n",
       "0     Salmonella     0.989508       0.199786         Salmonella_enterica   \n",
       "1  Mycobacterium     0.999820       0.005806     Mycobacterium_smegmatis   \n",
       "2  Streptococcus     0.999820       0.005261  Streptococcus_thermophilus   \n",
       "3    Lactococcus     1.000000       0.000002          Lactococcus_lactis   \n",
       "4                    0.000000       0.000000                               \n",
       "\n",
       "   score_species  entropy_species        Accession  \n",
       "0       0.999750         1.682540  NC_048785.1.csv  \n",
       "1       0.999998         5.399976  NC_021061.1.csv  \n",
       "2       1.000000         5.553392  NC_070700.1.csv  \n",
       "3       1.000000         5.924040  NC_049487.1.csv  \n",
       "4       0.000000         0.000000  NC_077159.1.csv  "
      ]
     },
     "execution_count": 42,
     "metadata": {},
     "output_type": "execute_result"
    }
   ],
   "source": [
    "vhulk = pd.read_csv('Results/vhulk_ncbi_results.csv')\n",
    "vhulk = vhulk.fillna('')\n",
    "vhulk_prediction = {acc.split('.csv')[0]: host for acc, host in zip(vhulk.Accession, vhulk.pred_species)}\n",
    "vhulk.head()"
   ]
  },
  {
   "cell_type": "code",
   "execution_count": 43,
   "id": "4a6f00f0",
   "metadata": {},
   "outputs": [
    {
     "name": "stdout",
     "output_type": "stream",
     "text": [
      "Species-level accuracy: 0.5818436733263231\n",
      "Species-level prediction rate: 0.60727969348659\n"
     ]
    }
   ],
   "source": [
    "total = 0\n",
    "correct = 0\n",
    "for acc in label:\n",
    "    try:\n",
    "        pred = vhulk_prediction[acc]\n",
    "        if pred == '':\n",
    "            continue\n",
    "        elif pred.replace('_', ' ') == label[acc]:\n",
    "            correct += 1\n",
    "            total += 1\n",
    "        else:\n",
    "            total += 1\n",
    "    except:\n",
    "        pass\n",
    "print(\"Species-level accuracy:\", correct / total)\n",
    "print(\"Species-level prediction rate:\", total / len(label))"
   ]
  },
  {
   "cell_type": "code",
   "execution_count": 44,
   "id": "59047fae",
   "metadata": {},
   "outputs": [
    {
     "name": "stdout",
     "output_type": "stream",
     "text": [
      "Genus-level accuracy: 0.7206449351559762\n",
      "Genus-level prediction rate: 0.60727969348659\n"
     ]
    }
   ],
   "source": [
    "total = 0\n",
    "correct = 0\n",
    "for acc in label:\n",
    "    try:\n",
    "        genus, family = get_genus_and_family(label[acc])\n",
    "        pred = vhulk_prediction[acc]\n",
    "        if pred == '':\n",
    "            continue\n",
    "        pred_g, pred_f = get_genus_and_family(pred.replace('_', ' '))\n",
    "        if pred_g == genus:\n",
    "            correct += 1\n",
    "            total += 1\n",
    "        else:\n",
    "            total += 1\n",
    "    except:\n",
    "        pass\n",
    "print(\"Genus-level accuracy:\", correct / total)\n",
    "print(\"Genus-level prediction rate:\", total / len(label))"
   ]
  },
  {
   "cell_type": "code",
   "execution_count": 45,
   "id": "f978c64e",
   "metadata": {},
   "outputs": [
    {
     "name": "stdout",
     "output_type": "stream",
     "text": [
      "Family-level accuracy: 0.7490361023484052\n",
      "Family-level prediction rate: 0.60727969348659\n"
     ]
    }
   ],
   "source": [
    "total = 0\n",
    "correct = 0\n",
    "for acc in label:\n",
    "    try:\n",
    "        genus, family = get_genus_and_family(label[acc])\n",
    "        pred = vhulk_prediction[acc]\n",
    "        if pred == '':\n",
    "            continue\n",
    "        pred_g, pred_f = get_genus_and_family(pred.replace('_', ' '))\n",
    "        if pred_f == family:\n",
    "            correct += 1\n",
    "            total += 1\n",
    "        else:\n",
    "            total += 1\n",
    "    except:\n",
    "        pass\n",
    "print(\"Family-level accuracy:\", correct / total)\n",
    "print(\"Family-level prediction rate:\", total / len(label))"
   ]
  },
  {
   "cell_type": "markdown",
   "id": "b12b626e",
   "metadata": {},
   "source": [
    "# DeepHost results"
   ]
  },
  {
   "cell_type": "code",
   "execution_count": 47,
   "id": "2cd33a65",
   "metadata": {},
   "outputs": [
    {
     "data": {
      "text/html": [
       "<div>\n",
       "<style scoped>\n",
       "    .dataframe tbody tr th:only-of-type {\n",
       "        vertical-align: middle;\n",
       "    }\n",
       "\n",
       "    .dataframe tbody tr th {\n",
       "        vertical-align: top;\n",
       "    }\n",
       "\n",
       "    .dataframe thead th {\n",
       "        text-align: right;\n",
       "    }\n",
       "</style>\n",
       "<table border=\"1\" class=\"dataframe\">\n",
       "  <thead>\n",
       "    <tr style=\"text-align: right;\">\n",
       "      <th></th>\n",
       "      <th>0</th>\n",
       "      <th>1</th>\n",
       "    </tr>\n",
       "  </thead>\n",
       "  <tbody>\n",
       "    <tr>\n",
       "      <th>0</th>\n",
       "      <td>NC_092681.1 |Salmonella phage BD13, complete g...</td>\n",
       "      <td>Salmonella enterica</td>\n",
       "    </tr>\n",
       "    <tr>\n",
       "      <th>1</th>\n",
       "      <td>NC_092682.1 |Salmonella phage beppo, complete ...</td>\n",
       "      <td>Salmonella enterica</td>\n",
       "    </tr>\n",
       "    <tr>\n",
       "      <th>2</th>\n",
       "      <td>NC_092683.1 |Salmonella phage bobsandoy, compl...</td>\n",
       "      <td>Salmonella enterica</td>\n",
       "    </tr>\n",
       "    <tr>\n",
       "      <th>3</th>\n",
       "      <td>NC_092586.1 |Caudoviricetes sp. vir215 genomic...</td>\n",
       "      <td>Pseudomonas aeruginosa</td>\n",
       "    </tr>\n",
       "    <tr>\n",
       "      <th>4</th>\n",
       "      <td>NC_092455.1 |Klebsiella phage Oda, complete ge...</td>\n",
       "      <td>Klebsiella pneumoniae</td>\n",
       "    </tr>\n",
       "  </tbody>\n",
       "</table>\n",
       "</div>"
      ],
      "text/plain": [
       "                                                   0                       1\n",
       "0  NC_092681.1 |Salmonella phage BD13, complete g...     Salmonella enterica\n",
       "1  NC_092682.1 |Salmonella phage beppo, complete ...     Salmonella enterica\n",
       "2  NC_092683.1 |Salmonella phage bobsandoy, compl...     Salmonella enterica\n",
       "3  NC_092586.1 |Caudoviricetes sp. vir215 genomic...  Pseudomonas aeruginosa\n",
       "4  NC_092455.1 |Klebsiella phage Oda, complete ge...   Klebsiella pneumoniae"
      ]
     },
     "execution_count": 47,
     "metadata": {},
     "output_type": "execute_result"
    }
   ],
   "source": [
    "deep = pd.read_csv('Results/DeepHost_ncbi_results.tsv', sep='\\t', header=None)\n",
    "deep_prediction = {acc.split(' |')[0]: host for acc, host in zip(deep[0], deep[1])}\n",
    "deep.head()"
   ]
  },
  {
   "cell_type": "code",
   "execution_count": 50,
   "id": "bff754df",
   "metadata": {},
   "outputs": [
    {
     "name": "stdout",
     "output_type": "stream",
     "text": [
      "Species-level accuracy: 0.5951468710089399\n",
      "Species-level prediction rate: 1.0\n"
     ]
    }
   ],
   "source": [
    "total = 0\n",
    "correct = 0\n",
    "for acc in label:\n",
    "    try:\n",
    "        pred = deep_prediction[acc]\n",
    "        if pred.replace('_', ' ') == label[acc]:\n",
    "            correct += 1\n",
    "            total += 1\n",
    "        else:\n",
    "            total += 1\n",
    "    except:\n",
    "        pass\n",
    "print(\"Species-level accuracy:\", correct / total)\n",
    "print(\"Species-level prediction rate:\", total / len(label))"
   ]
  },
  {
   "cell_type": "code",
   "execution_count": 51,
   "id": "93c884b7",
   "metadata": {},
   "outputs": [
    {
     "name": "stdout",
     "output_type": "stream",
     "text": [
      "Genus-level accuracy: 0.6758194976585781\n",
      "Genus-level prediction rate: 1.0\n"
     ]
    }
   ],
   "source": [
    "total = 0\n",
    "correct = 0\n",
    "for acc in label:\n",
    "    try:\n",
    "        genus, family = get_genus_and_family(label[acc])\n",
    "        pred = deep_prediction[acc]\n",
    "        pred_g, pred_f = get_genus_and_family(pred.replace('_', ' '))\n",
    "        if pred_g == genus:\n",
    "            correct += 1\n",
    "            total += 1\n",
    "        else:\n",
    "            total += 1\n",
    "    except:\n",
    "        pass\n",
    "print(\"Genus-level accuracy:\", correct / total)\n",
    "print(\"Genus-level prediction rate:\", total / len(label))"
   ]
  },
  {
   "cell_type": "code",
   "execution_count": 52,
   "id": "27c7e0bb",
   "metadata": {},
   "outputs": [
    {
     "name": "stdout",
     "output_type": "stream",
     "text": [
      "Family-level accuracy: 0.7188165176670924\n",
      "Family-level prediction rate: 1.0\n"
     ]
    }
   ],
   "source": [
    "total = 0\n",
    "correct = 0\n",
    "for acc in label:\n",
    "    try:\n",
    "        genus, family = get_genus_and_family(label[acc])\n",
    "        pred = deep_prediction[acc]\n",
    "        pred_g, pred_f = get_genus_and_family(pred.replace('_', ' '))\n",
    "        if pred_f == family:\n",
    "            correct += 1\n",
    "            total += 1\n",
    "        else:\n",
    "            total += 1\n",
    "    except:\n",
    "        pass\n",
    "print(\"Family-level accuracy:\", correct / total)\n",
    "print(\"Family-level prediction rate:\", total / len(label))"
   ]
  },
  {
   "cell_type": "markdown",
   "id": "d44c95cc-8802-4b32-97f9-2228b2b5930e",
   "metadata": {},
   "source": [
    "# RaFAH results"
   ]
  },
  {
   "cell_type": "code",
   "execution_count": 54,
   "id": "f724aa3d-af20-45b3-bbdd-ddf513488e05",
   "metadata": {},
   "outputs": [
    {
     "data": {
      "text/html": [
       "<div>\n",
       "<style scoped>\n",
       "    .dataframe tbody tr th:only-of-type {\n",
       "        vertical-align: middle;\n",
       "    }\n",
       "\n",
       "    .dataframe tbody tr th {\n",
       "        vertical-align: top;\n",
       "    }\n",
       "\n",
       "    .dataframe thead th {\n",
       "        text-align: right;\n",
       "    }\n",
       "</style>\n",
       "<table border=\"1\" class=\"dataframe\">\n",
       "  <thead>\n",
       "    <tr style=\"text-align: right;\">\n",
       "      <th></th>\n",
       "      <th>Variable</th>\n",
       "      <th>CDS_Count</th>\n",
       "      <th>Description</th>\n",
       "      <th>Length</th>\n",
       "      <th>Original_File</th>\n",
       "      <th>Predicted_Host</th>\n",
       "      <th>Predicted_Host_Score</th>\n",
       "    </tr>\n",
       "  </thead>\n",
       "  <tbody>\n",
       "    <tr>\n",
       "      <th>0</th>\n",
       "      <td>NC_000866.4</td>\n",
       "      <td>265</td>\n",
       "      <td>|Enterobacteria phage T4, complete genome</td>\n",
       "      <td>168903</td>\n",
       "      <td>NC_000866.4.fa</td>\n",
       "      <td>Escherichia</td>\n",
       "      <td>0.805000</td>\n",
       "    </tr>\n",
       "    <tr>\n",
       "      <th>1</th>\n",
       "      <td>NC_000867.1</td>\n",
       "      <td>19</td>\n",
       "      <td>|Pseudoalteromonas phage PM2, complete genome</td>\n",
       "      <td>10079</td>\n",
       "      <td>NC_000867.1.fa</td>\n",
       "      <td>Pseudoalteromonas</td>\n",
       "      <td>0.876333</td>\n",
       "    </tr>\n",
       "    <tr>\n",
       "      <th>2</th>\n",
       "      <td>NC_000871.1</td>\n",
       "      <td>46</td>\n",
       "      <td>|Streptococcus phage Sfi19, complete genome</td>\n",
       "      <td>37370</td>\n",
       "      <td>NC_000871.1.fa</td>\n",
       "      <td>Streptococcus</td>\n",
       "      <td>0.987000</td>\n",
       "    </tr>\n",
       "    <tr>\n",
       "      <th>3</th>\n",
       "      <td>NC_000872.1</td>\n",
       "      <td>54</td>\n",
       "      <td>|Streptococcus phage Sfi21, complete genome</td>\n",
       "      <td>40739</td>\n",
       "      <td>NC_000872.1.fa</td>\n",
       "      <td>Streptococcus</td>\n",
       "      <td>0.989000</td>\n",
       "    </tr>\n",
       "    <tr>\n",
       "      <th>4</th>\n",
       "      <td>NC_000896.1</td>\n",
       "      <td>66</td>\n",
       "      <td>|Lactobacillus prophage phiadh, complete genome</td>\n",
       "      <td>43785</td>\n",
       "      <td>NC_000896.1.fa</td>\n",
       "      <td>Lactobacillus</td>\n",
       "      <td>0.981000</td>\n",
       "    </tr>\n",
       "  </tbody>\n",
       "</table>\n",
       "</div>"
      ],
      "text/plain": [
       "      Variable  CDS_Count                                      Description  \\\n",
       "0  NC_000866.4        265        |Enterobacteria phage T4, complete genome   \n",
       "1  NC_000867.1         19    |Pseudoalteromonas phage PM2, complete genome   \n",
       "2  NC_000871.1         46      |Streptococcus phage Sfi19, complete genome   \n",
       "3  NC_000872.1         54      |Streptococcus phage Sfi21, complete genome   \n",
       "4  NC_000896.1         66  |Lactobacillus prophage phiadh, complete genome   \n",
       "\n",
       "   Length   Original_File     Predicted_Host  Predicted_Host_Score  \n",
       "0  168903  NC_000866.4.fa        Escherichia              0.805000  \n",
       "1   10079  NC_000867.1.fa  Pseudoalteromonas              0.876333  \n",
       "2   37370  NC_000871.1.fa      Streptococcus              0.987000  \n",
       "3   40739  NC_000872.1.fa      Streptococcus              0.989000  \n",
       "4   43785  NC_000896.1.fa      Lactobacillus              0.981000  "
      ]
     },
     "execution_count": 54,
     "metadata": {},
     "output_type": "execute_result"
    }
   ],
   "source": [
    "rafah = pd.read_csv('Results/RaFAH_ncbi_results.tsv', sep='\\t')\n",
    "rafah_prediction = {acc: host for acc, host in zip(rafah['Variable'], rafah['Predicted_Host'])}\n",
    "rafah.head()"
   ]
  },
  {
   "cell_type": "code",
   "execution_count": 55,
   "id": "634f0145",
   "metadata": {},
   "outputs": [
    {
     "name": "stdout",
     "output_type": "stream",
     "text": [
      "Genus-level accuracy: 0.8391256830601093\n",
      "Genus-level prediction rate: 0.9738186462324393\n"
     ]
    }
   ],
   "source": [
    "total = 0\n",
    "correct = 0\n",
    "for acc in label:\n",
    "    try:\n",
    "        genus, family = get_genus_and_family(label[acc])\n",
    "        pred = rafah_prediction[acc]\n",
    "        pred_g, pred_f = get_genus_and_family(pred.replace('_', ' '))\n",
    "        if pred_g == genus:\n",
    "            correct += 1\n",
    "            total += 1\n",
    "        else:\n",
    "            total += 1\n",
    "    except:\n",
    "        pass\n",
    "print(\"Genus-level accuracy:\", correct / total)\n",
    "print(\"Genus-level prediction rate:\", total / len(label))"
   ]
  },
  {
   "cell_type": "code",
   "execution_count": 56,
   "id": "5cdacbae",
   "metadata": {},
   "outputs": [
    {
     "name": "stdout",
     "output_type": "stream",
     "text": [
      "Family-level accuracy: 0.9127868852459017\n",
      "Family-level prediction rate: 0.9738186462324393\n"
     ]
    }
   ],
   "source": [
    "total = 0\n",
    "correct = 0\n",
    "for acc in label:\n",
    "    try:\n",
    "        genus, family = get_genus_and_family(label[acc])\n",
    "        pred = rafah_prediction[acc]\n",
    "        pred_g, pred_f = get_genus_and_family(pred.replace('_', ' '))\n",
    "        if pred_f == family:\n",
    "            correct += 1\n",
    "            total += 1\n",
    "        else:\n",
    "            total += 1\n",
    "    except:\n",
    "        pass\n",
    "print(\"Family-level accuracy:\", correct / total)\n",
    "print(\"Family-level prediction rate:\", total / len(label))"
   ]
  },
  {
   "cell_type": "markdown",
   "id": "116b6704",
   "metadata": {},
   "source": [
    "# PHP results"
   ]
  },
  {
   "cell_type": "code",
   "execution_count": 59,
   "id": "6bbacb59",
   "metadata": {},
   "outputs": [
    {
     "data": {
      "text/html": [
       "<div>\n",
       "<style scoped>\n",
       "    .dataframe tbody tr th:only-of-type {\n",
       "        vertical-align: middle;\n",
       "    }\n",
       "\n",
       "    .dataframe tbody tr th {\n",
       "        vertical-align: top;\n",
       "    }\n",
       "\n",
       "    .dataframe thead th {\n",
       "        text-align: right;\n",
       "    }\n",
       "</style>\n",
       "<table border=\"1\" class=\"dataframe\">\n",
       "  <thead>\n",
       "    <tr style=\"text-align: right;\">\n",
       "      <th></th>\n",
       "      <th>queryVirus</th>\n",
       "      <th>score</th>\n",
       "      <th>_maxScoreHost</th>\n",
       "      <th>species</th>\n",
       "    </tr>\n",
       "  </thead>\n",
       "  <tbody>\n",
       "    <tr>\n",
       "      <th>0</th>\n",
       "      <td>NC_021774.1.fa</td>\n",
       "      <td>1448.805684</td>\n",
       "      <td>1560201</td>\n",
       "      <td>Erwinia iniecta</td>\n",
       "    </tr>\n",
       "    <tr>\n",
       "      <th>1</th>\n",
       "      <td>NC_028860.1.fa</td>\n",
       "      <td>1454.858953</td>\n",
       "      <td>1490483</td>\n",
       "      <td>Mycobacterium sp. SWH-M5</td>\n",
       "    </tr>\n",
       "    <tr>\n",
       "      <th>2</th>\n",
       "      <td>NC_047794.1.fa</td>\n",
       "      <td>1365.426114</td>\n",
       "      <td>2218666</td>\n",
       "      <td>Streptomyces sp. AC1-42W</td>\n",
       "    </tr>\n",
       "    <tr>\n",
       "      <th>3</th>\n",
       "      <td>NC_073092.1.fa</td>\n",
       "      <td>1430.137377</td>\n",
       "      <td>1298875</td>\n",
       "      <td>Nocardioides sp. JGI 0001009-J09</td>\n",
       "    </tr>\n",
       "    <tr>\n",
       "      <th>4</th>\n",
       "      <td>NC_055816.1.fa</td>\n",
       "      <td>1455.347689</td>\n",
       "      <td>2055</td>\n",
       "      <td>Gordonia terrae</td>\n",
       "    </tr>\n",
       "  </tbody>\n",
       "</table>\n",
       "</div>"
      ],
      "text/plain": [
       "       queryVirus        score  _maxScoreHost  \\\n",
       "0  NC_021774.1.fa  1448.805684        1560201   \n",
       "1  NC_028860.1.fa  1454.858953        1490483   \n",
       "2  NC_047794.1.fa  1365.426114        2218666   \n",
       "3  NC_073092.1.fa  1430.137377        1298875   \n",
       "4  NC_055816.1.fa  1455.347689           2055   \n",
       "\n",
       "                            species  \n",
       "0                   Erwinia iniecta  \n",
       "1          Mycobacterium sp. SWH-M5  \n",
       "2          Streptomyces sp. AC1-42W  \n",
       "3  Nocardioides sp. JGI 0001009-J09  \n",
       "4                   Gordonia terrae  "
      ]
     },
     "execution_count": 59,
     "metadata": {},
     "output_type": "execute_result"
    }
   ],
   "source": [
    "php = pd.read_csv('Results/PHP_ncbi_results.csv')\n",
    "php_prediction = {acc.split('.fa')[0]: host for acc, host in zip(php['queryVirus'], php['species'])}\n",
    "php.head()"
   ]
  },
  {
   "cell_type": "code",
   "execution_count": 60,
   "id": "1cb9e24a",
   "metadata": {},
   "outputs": [
    {
     "name": "stdout",
     "output_type": "stream",
     "text": [
      "Species-level accuracy: 0.19625372498935717\n",
      "Species-level prediction rate: 1.0\n"
     ]
    }
   ],
   "source": [
    "total = 0\n",
    "correct = 0\n",
    "for acc in label:\n",
    "    try:\n",
    "        pred = php_prediction[acc]\n",
    "        if pred == '':\n",
    "            continue\n",
    "        elif pred.replace('_', ' ') == label[acc]:\n",
    "            correct += 1\n",
    "            total += 1\n",
    "        else:\n",
    "            total += 1\n",
    "    except:\n",
    "        pass\n",
    "print(\"Species-level accuracy:\", correct / total)\n",
    "print(\"Species-level prediction rate:\", total / len(label))"
   ]
  },
  {
   "cell_type": "code",
   "execution_count": 61,
   "id": "85f93e16",
   "metadata": {},
   "outputs": [
    {
     "name": "stdout",
     "output_type": "stream",
     "text": [
      "Genus-level accuracy: 0.40911025968497233\n",
      "Genus-level prediction rate: 1.0\n"
     ]
    }
   ],
   "source": [
    "total = 0\n",
    "correct = 0\n",
    "for acc in label:\n",
    "    try:\n",
    "        genus, family = get_genus_and_family(label[acc])\n",
    "        pred = php_prediction[acc]\n",
    "        if pred == '':\n",
    "            continue\n",
    "        pred_g, pred_f = get_genus_and_family(pred.replace('_', ' '))\n",
    "        if pred_g == genus:\n",
    "            correct += 1\n",
    "            total += 1\n",
    "        else:\n",
    "            total += 1\n",
    "    except:\n",
    "        pass\n",
    "print(\"Genus-level accuracy:\", correct / total)\n",
    "print(\"Genus-level prediction rate:\", total / len(label))"
   ]
  },
  {
   "cell_type": "code",
   "execution_count": 62,
   "id": "8aa61f2c",
   "metadata": {},
   "outputs": [
    {
     "name": "stdout",
     "output_type": "stream",
     "text": [
      "Family-level accuracy: 0.6198382290336313\n",
      "Family-level prediction rate: 1.0\n"
     ]
    }
   ],
   "source": [
    "total = 0\n",
    "correct = 0\n",
    "for acc in label:\n",
    "    try:\n",
    "        genus, family = get_genus_and_family(label[acc])\n",
    "        pred = php_prediction[acc]\n",
    "        if pred == '':\n",
    "            continue\n",
    "        pred_g, pred_f = get_genus_and_family(pred.replace('_', ' '))\n",
    "        if pred_f == family:\n",
    "            correct += 1\n",
    "            total += 1\n",
    "        else:\n",
    "            total += 1\n",
    "    except:\n",
    "        pass\n",
    "print(\"Family-level accuracy:\", correct / total)\n",
    "print(\"Family-level prediction rate:\", total / len(label))"
   ]
  },
  {
   "cell_type": "markdown",
   "id": "ba8e3b30",
   "metadata": {},
   "source": [
    "# Combine results"
   ]
  },
  {
   "cell_type": "code",
   "execution_count": 63,
   "id": "7e35d23c",
   "metadata": {},
   "outputs": [],
   "source": [
    "union = list(set(deep_prediction) | set(cherry_prediction_species) | set(vhmnet_prediction))"
   ]
  },
  {
   "cell_type": "markdown",
   "id": "fab9ba88",
   "metadata": {},
   "source": [
    "## Union + Majority vote"
   ]
  },
  {
   "cell_type": "code",
   "execution_count": 64,
   "id": "72d7db79",
   "metadata": {},
   "outputs": [],
   "source": [
    "# generate a majority vote for union prediction\n",
    "union_prediction = {}\n",
    "for item in union:\n",
    "    if item in deep_prediction and item in cherry_prediction_species and item in vhmnet_prediction:\n",
    "        votes = [deep_prediction[item], cherry_prediction_species[item], vhmnet_prediction[item]]\n",
    "        union_prediction[item] = max(set(votes), key=votes.count)\n",
    "    elif item in deep_prediction and item in cherry_prediction_species:\n",
    "        votes = [deep_prediction[item], cherry_prediction_species[item]]\n",
    "        union_prediction[item] = max(set(votes), key=votes.count)\n",
    "    elif item in deep_prediction and item in vhmnet_prediction:\n",
    "        votes = [deep_prediction[item], vhmnet_prediction[item]]\n",
    "        union_prediction[item] = max(set(votes), key=votes.count)\n",
    "    elif item in cherry_prediction_species and item in vhmnet_prediction:\n",
    "        votes = [cherry_prediction_species[item], vhmnet_prediction[item]]\n",
    "        union_prediction[item] = max(set(votes), key=votes.count)\n",
    "    elif item in deep_prediction:\n",
    "        votes = [deep_prediction[item]]\n",
    "        union_prediction[item] = max(set(votes), key=votes.count)\n",
    "    elif item in cherry_prediction_species:\n",
    "        votes = [cherry_prediction_species[item]]\n",
    "        union_prediction[item] = max(set(votes), key=votes.count)\n",
    "    elif item in vhmnet_prediction:\n",
    "        votes = [vhmnet_prediction[item]]\n",
    "        union_prediction[item] = max(set(votes), key=votes.count)\n"
   ]
  },
  {
   "cell_type": "code",
   "execution_count": 66,
   "id": "19d99e9c",
   "metadata": {},
   "outputs": [
    {
     "name": "stdout",
     "output_type": "stream",
     "text": [
      "Union + majority vote accuracy: 0.5796083439761601\n",
      "Union + majority vote prediction rate: 1.0\n"
     ]
    }
   ],
   "source": [
    "total = 0\n",
    "correct = 0\n",
    "for acc in label:\n",
    "    try:\n",
    "        pred = union_prediction[acc]\n",
    "        if pred == '':\n",
    "            continue\n",
    "        elif pred.replace('_', ' ') == label[acc]:\n",
    "            correct += 1\n",
    "            total += 1\n",
    "        else:\n",
    "            total += 1\n",
    "    except:\n",
    "        pass\n",
    "\n",
    "print(\"Union + majority vote accuracy:\", correct / total)\n",
    "print(\"Union + majority vote prediction rate:\", total / len(label))"
   ]
  },
  {
   "cell_type": "markdown",
   "id": "58d37c43",
   "metadata": {},
   "source": [
    "## Joint + majority vote"
   ]
  },
  {
   "cell_type": "code",
   "execution_count": 67,
   "id": "ee568d97",
   "metadata": {},
   "outputs": [],
   "source": [
    "joint_prediction = {}\n",
    "for item in union:\n",
    "    if item in deep_prediction and item in cherry_prediction_species and item in vhmnet_prediction:\n",
    "        votes = [deep_prediction[item], cherry_prediction_species[item], vhmnet_prediction[item]]\n",
    "        joint_prediction[item] = max(set(votes), key=votes.count)"
   ]
  },
  {
   "cell_type": "code",
   "execution_count": 68,
   "id": "7e58c4f8",
   "metadata": {},
   "outputs": [
    {
     "name": "stdout",
     "output_type": "stream",
     "text": [
      "Joint + majority vote accuracy: 0.7030363697030364\n",
      "Joint + majority vote prediction rate: 0.6379310344827587\n"
     ]
    }
   ],
   "source": [
    "total = 0\n",
    "correct = 0\n",
    "for acc in label:\n",
    "    try:\n",
    "        pred = joint_prediction[acc]\n",
    "        if pred == '':\n",
    "            continue\n",
    "        elif pred.replace('_', ' ') == label[acc]:\n",
    "            correct += 1\n",
    "            total += 1\n",
    "        else:\n",
    "            total += 1\n",
    "    except:\n",
    "        pass\n",
    "\n",
    "print(\"Joint + majority vote accuracy:\", correct / total)\n",
    "print(\"Joint + majority vote prediction rate:\", total / len(label))"
   ]
  },
  {
   "cell_type": "markdown",
   "id": "3a772db6",
   "metadata": {},
   "source": [
    "## Joint + consensus"
   ]
  },
  {
   "cell_type": "code",
   "execution_count": 69,
   "id": "a1490ff7",
   "metadata": {},
   "outputs": [],
   "source": [
    "joint_prediction = {}\n",
    "for item in union:\n",
    "    if item in deep_prediction and item in cherry_prediction_species and item in vhmnet_prediction:\n",
    "        if deep_prediction[item] == cherry_prediction_species[item] and  deep_prediction[item] == vhmnet_prediction[item]:\n",
    "            joint_prediction[item] = deep_prediction[item]"
   ]
  },
  {
   "cell_type": "code",
   "execution_count": 70,
   "id": "ae3cae70",
   "metadata": {},
   "outputs": [
    {
     "name": "stdout",
     "output_type": "stream",
     "text": [
      "Joint + consensus accuracy: 0.9974424552429667\n",
      "Joint + consensus prediction rate: 0.08322690506598553\n"
     ]
    }
   ],
   "source": [
    "total = 0\n",
    "correct = 0\n",
    "for acc in label:\n",
    "    try:\n",
    "        pred = joint_prediction[acc]\n",
    "        if pred == '':\n",
    "            continue\n",
    "        elif pred.replace('_', ' ') == label[acc]:\n",
    "            correct += 1\n",
    "            total += 1\n",
    "        else:\n",
    "            total += 1\n",
    "    except:\n",
    "        pass\n",
    "\n",
    "print(\"Joint + consensus accuracy:\", correct / total)\n",
    "print(\"Joint + consensus prediction rate:\", total / len(label))"
   ]
  },
  {
   "cell_type": "code",
   "execution_count": null,
   "id": "4da6b0d7",
   "metadata": {},
   "outputs": [],
   "source": []
  }
 ],
 "metadata": {
  "kernelspec": {
   "display_name": "base",
   "language": "python",
   "name": "python3"
  },
  "language_info": {
   "codemirror_mode": {
    "name": "ipython",
    "version": 3
   },
   "file_extension": ".py",
   "mimetype": "text/x-python",
   "name": "python",
   "nbconvert_exporter": "python",
   "pygments_lexer": "ipython3",
   "version": "3.11.5"
  }
 },
 "nbformat": 4,
 "nbformat_minor": 5
}
